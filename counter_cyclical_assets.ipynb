{
 "cells": [
  {
   "cell_type": "markdown",
   "id": "f0017697-a8a9-4f6c-b2ad-c9a46f616c11",
   "metadata": {},
   "source": [
    "**Research question:**  \n",
    "What asset prices move in opposition to oil prices and what is the relationship between them? \n",
    "1. Are the prices correlated? (covar)\n",
    "2. Are the variances correlated (var)\n",
    "3. What is the size of the correlation (beta)\n",
    "4. What would be the likely outcome in the future? (MC)\n",
    "\n",
    "The basic comparison will involve variance, covariance, and beta. Chart prices over time and overlay with oil to see if they move in inverse relation.  \n",
    "\n",
    "Look at 3 baskets of assets that represent some sectors that I hypothesize will move countercyclicly (plastics, energy generation, airlines). \n",
    "\n",
    "Variance measures volatility relative to mean. If you take the var of oil, sp500, targetbasket and compare over several time periods to see if targetbasket volitility changes inline with oil. A form of countercyclicality would be if targetbasket gets less volatile while oil gets more. \n",
    "\n",
    "Covariance measures how correlated two assets are. This one just do oil and targetbasket. Again do over several time periods to see if covariance changes. A positive number means they move in the same direction together. Negative means they're inverse. Chart covariancgetbaskete over time.\n",
    "\n",
    "Beta measures the scale of the change between two assets. oil as baseline asset and targetbasket. A beta of 1.0 means they're 1:1, >1 targetbasket will move more than baseline, <1 targetbasket will move less than baseline.\n",
    "\n",
    "Could do a montecarlo using a 'portfolio' of oil and a targetbasket. If the relationship was inverse and proportional, the cumulative return would be ~0. Use beta to help find a weighting. "
   ]
  },
  {
   "cell_type": "code",
   "execution_count": null,
   "id": "6aec2538-fe37-4a07-8ade-f3d220d7c1a1",
   "metadata": {},
   "outputs": [],
   "source": [
    "# Imports\n",
    "import pandas as pd\n",
    "import os\n",
    "from dotenv import load_dotenv\n",
    "import requests\n",
    "import json"
   ]
  },
  {
   "cell_type": "code",
   "execution_count": null,
   "id": "ef8c9dc2-a538-40c3-adfa-413649fe2652",
   "metadata": {},
   "outputs": [],
   "source": [
    "# Load .env environment variables, API key, dataset reference names\n",
    "load_dotenv()\n",
    "\n",
    "quandl_api_key = os.getenv(\"QUANDL_API_KEY\")\n",
    "\n",
    "stock_dataset = \"WIKI\"\n",
    "oil_dataset = \"EIA\""
   ]
  },
  {
   "cell_type": "code",
   "execution_count": null,
   "id": "9b4aad0c-b75e-442d-b3bf-ecc2f9611646",
   "metadata": {},
   "outputs": [],
   "source": [
    "# returns dataframe with the response data for the given list of tickers\n",
    "def getBasket(dataset,tickers,column=1):\n",
    "    df_dict = {}\n",
    "    master_df = pd.DataFrame()\n",
    "    for ticker in tickers: \n",
    "        target_url = f\"https://www.quandl.com/api/v3/datasets/{dataset}/{ticker}.json?&column_index={column}&api_key={quandl_api_key}\"\n",
    "        ticker_response = requests.get(target_url).json()\n",
    "        data = ticker_response['dataset']['data']\n",
    "        columns = ['date',ticker]\n",
    "        res_df = pd.DataFrame(data, columns=columns)\n",
    "        df_dict[ticker] = res_df\n",
    "    \n",
    "    # Concat dfs\n",
    "    for i in range(len(tickers)):\n",
    "        if i == 0:\n",
    "            master_df = df_dict[tickers[i]] \n",
    "        else:\n",
    "            master_df = pd.concat([master_df, df_dict[tickers[i]]], axis=\"columns\", join=\"inner\")\n",
    "            \n",
    "    return master_df.T.drop_duplicates().T"
   ]
  },
  {
   "cell_type": "code",
   "execution_count": null,
   "id": "0f76fcd9-7a95-4d6b-9a3d-5f815bbcef6a",
   "metadata": {},
   "outputs": [],
   "source": [
    "# takes a df and converts date to datetime and everything else to a float\n",
    "def cleanTypes(df):\n",
    "    for tic in df.columns:\n",
    "        if tic == 'date':\n",
    "            df['date'] = pd.to_datetime(df['date'].str.strip(), format='%Y/%m/%d')\n",
    "        else:\n",
    "            df[tic] = df[tic].astype('float')\n"
   ]
  },
  {
   "cell_type": "code",
   "execution_count": null,
   "id": "8cf52a54-8548-4a61-b32c-b8f0ca7596b4",
   "metadata": {},
   "outputs": [],
   "source": [
    "#Get oil data\n",
    "oil_df = getBasket(oil_dataset, [\"PET_RWTC_D\"])\n",
    "oil_df"
   ]
  },
  {
   "cell_type": "code",
   "execution_count": null,
   "id": "77708242-cc9b-4a91-a4a5-82db2d109dcd",
   "metadata": {},
   "outputs": [],
   "source": [
    "oil_df.isnull().sum()"
   ]
  },
  {
   "cell_type": "code",
   "execution_count": null,
   "id": "1589eb76-f83f-45a1-8fc7-d05ca72f8b13",
   "metadata": {},
   "outputs": [],
   "source": [
    "oil_df.duplicated().sum()"
   ]
  },
  {
   "cell_type": "code",
   "execution_count": null,
   "id": "5f3a8d65-eb31-420f-aaf0-abb377c18d64",
   "metadata": {},
   "outputs": [],
   "source": [
    "oil_df.dtypes"
   ]
  },
  {
   "cell_type": "code",
   "execution_count": null,
   "id": "118d4d2f-791f-4000-b2dc-43084303e48d",
   "metadata": {},
   "outputs": [],
   "source": [
    "cleanTypes(oil_df)\n",
    "oil_df.dtypes"
   ]
  },
  {
   "cell_type": "code",
   "execution_count": null,
   "id": "bdae7b78-5586-4e14-8b87-2639dd8c027d",
   "metadata": {},
   "outputs": [],
   "source": [
    "# Get plastics data\n",
    "plastics_nyse_tic = ['ATR','BERY','AWI','MYE','TUP']\n",
    "plastics_df = getBasket(stock_dataset, plastics_nyse_tic,4)\n",
    "plastics_df.head()"
   ]
  },
  {
   "cell_type": "code",
   "execution_count": null,
   "id": "93b27cd3-9f8b-44d8-8442-8d7ae7e0bac3",
   "metadata": {},
   "outputs": [],
   "source": [
    "plastics_df.isnull().sum()"
   ]
  },
  {
   "cell_type": "code",
   "execution_count": null,
   "id": "6824d5ce-7088-4544-bd16-c0d0f4682024",
   "metadata": {},
   "outputs": [],
   "source": [
    "plastics_df.duplicated().sum()"
   ]
  },
  {
   "cell_type": "code",
   "execution_count": null,
   "id": "28e54163-5713-414e-a5d5-2b14e1bd3904",
   "metadata": {},
   "outputs": [],
   "source": [
    "plastics_df.dtypes"
   ]
  },
  {
   "cell_type": "code",
   "execution_count": null,
   "id": "9bfab7b6-a997-4dd0-b78a-0365b017cc26",
   "metadata": {},
   "outputs": [],
   "source": [
    "cleanTypes(plastics_df)\n",
    "plastics_df.dtypes"
   ]
  },
  {
   "cell_type": "code",
   "execution_count": null,
   "id": "3cd9a42f-b119-49ab-b6c4-08f8f58a0173",
   "metadata": {},
   "outputs": [],
   "source": [
    "# Get Power Generator data\n",
    "powergen_nyse_tic = ['LNT','EXC','NWE','XEL','D','EIX','ETR']\n",
    "power_df = getBasket(stock_dataset, powergen_nyse_tic,4)\n",
    "power_df"
   ]
  },
  {
   "cell_type": "code",
   "execution_count": null,
   "id": "4486d81f-8adc-405f-983e-fbafe21d37d3",
   "metadata": {},
   "outputs": [],
   "source": [
    "power_df.isnull().sum()"
   ]
  },
  {
   "cell_type": "code",
   "execution_count": null,
   "id": "a489f9ef-f164-4c66-b772-d65569561f2a",
   "metadata": {},
   "outputs": [],
   "source": [
    "power_df.duplicated().sum()"
   ]
  },
  {
   "cell_type": "code",
   "execution_count": null,
   "id": "86fe36a5-1acc-4dd8-bdac-1c6ff372a32b",
   "metadata": {},
   "outputs": [],
   "source": [
    "power_df.dtypes"
   ]
  },
  {
   "cell_type": "code",
   "execution_count": null,
   "id": "5645c46b-b1e0-46fb-96b3-d87ccecc8b2f",
   "metadata": {},
   "outputs": [],
   "source": [
    "cleanTypes(power_df)\n",
    "power_df.dtypes"
   ]
  },
  {
   "cell_type": "code",
   "execution_count": null,
   "id": "670dad1f-76e1-4e5c-a9bf-d002bbabae1e",
   "metadata": {},
   "outputs": [],
   "source": [
    "# Get Airline data\n",
    "airline_nyse_tic = ['ALK','LUV','DAL','AAL','JBLU','UAL','SKYW','CPA']\n",
    "air_df = getBasket(stock_dataset, airline_nyse_tic,4)\n",
    "air_df.head()"
   ]
  },
  {
   "cell_type": "code",
   "execution_count": null,
   "id": "9073d153-1667-4673-a439-491023dac7c3",
   "metadata": {},
   "outputs": [],
   "source": [
    "air_df.isnull().sum()"
   ]
  },
  {
   "cell_type": "code",
   "execution_count": null,
   "id": "146f0d2b-4dea-4ac7-b09a-1b6e2e587ada",
   "metadata": {},
   "outputs": [],
   "source": [
    "air_df.duplicated().sum()"
   ]
  },
  {
   "cell_type": "code",
   "execution_count": null,
   "id": "bfbac410-637b-4510-a500-25536e546e5f",
   "metadata": {},
   "outputs": [],
   "source": [
    "air_df.dtypes"
   ]
  },
  {
   "cell_type": "code",
   "execution_count": null,
   "id": "055e1159-9cde-4883-b5f2-4d656738db42",
   "metadata": {},
   "outputs": [],
   "source": [
    "cleanTypes(air_df)\n",
    "air_df.dtypes"
   ]
  },
  {
   "cell_type": "code",
   "execution_count": null,
   "id": "a3f6eded-ddb5-4eeb-99db-576551bf9f8e",
   "metadata": {},
   "outputs": [],
   "source": []
  },
  {
   "cell_type": "code",
   "execution_count": null,
   "id": "1af71001-95e8-46b5-bf26-d8d425f7c926",
   "metadata": {},
   "outputs": [],
   "source": []
  },
  {
   "cell_type": "code",
   "execution_count": null,
   "id": "3304f397-ee3e-4c36-bc86-98950481587e",
   "metadata": {},
   "outputs": [],
   "source": []
  },
  {
   "cell_type": "code",
   "execution_count": null,
   "id": "d3144e35-2f1e-4dbe-8a2b-c412bb9c5981",
   "metadata": {},
   "outputs": [],
   "source": []
  },
  {
   "cell_type": "code",
   "execution_count": null,
   "id": "c1ad1195-96c3-4784-b2c7-96a7e0f8413a",
   "metadata": {},
   "outputs": [],
   "source": []
  },
  {
   "cell_type": "code",
   "execution_count": null,
   "id": "80016716-db75-4f47-91bd-4f2468702c92",
   "metadata": {},
   "outputs": [],
   "source": []
  },
  {
   "cell_type": "code",
   "execution_count": null,
   "id": "54c5dd41-e602-4613-ae4e-7b701eb21189",
   "metadata": {},
   "outputs": [],
   "source": []
  },
  {
   "cell_type": "code",
   "execution_count": null,
   "id": "02d6feef-505a-4772-bf83-fd3a1d4ca598",
   "metadata": {},
   "outputs": [],
   "source": []
  },
  {
   "cell_type": "code",
   "execution_count": null,
   "id": "196ba4ae-fb3f-4d80-8323-cf44be16e0ea",
   "metadata": {},
   "outputs": [],
   "source": [
    "\n",
    "\n",
    "\n",
    "\n",
    "\n",
    "airline_otc_tic = ['DLAKY','CPCAY','LTMAQ','AFLYY']"
   ]
  }
 ],
 "metadata": {
  "kernelspec": {
   "display_name": "dev",
   "language": "python",
   "name": "dev"
  },
  "language_info": {
   "codemirror_mode": {
    "name": "ipython",
    "version": 3
   },
   "file_extension": ".py",
   "mimetype": "text/x-python",
   "name": "python",
   "nbconvert_exporter": "python",
   "pygments_lexer": "ipython3",
   "version": "3.7.11"
  }
 },
 "nbformat": 4,
 "nbformat_minor": 5
}
