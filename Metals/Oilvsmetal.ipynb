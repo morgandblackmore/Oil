{
 "cells": [
  {
   "cell_type": "markdown",
   "metadata": {},
   "source": [
    "# Oil is the world's most important commodity and it has a uniquely large impact on the world economy and financial markets. We are seeing this play out today as Russia's war in Ukraine and subsequent sanctions have led to volatility both at the pump and in portfolios.\n",
    "Our group will look at oil through other periods of crisis, how it behaves relative to other market sectors. \n"
   ]
  },
  {
   "cell_type": "code",
   "execution_count": 5,
   "metadata": {},
   "outputs": [],
   "source": [
    "# Import the required libraries and dependencies\n",
    "\n",
    "import pandas as pd\n",
    "import os\n",
    "import json\n",
    "import requests\n",
    "from dotenv import load_dotenv\n",
    "%matplotlib inline\n",
    "import statistics "
   ]
  },
  {
   "cell_type": "code",
   "execution_count": 6,
   "metadata": {},
   "outputs": [
    {
     "data": {
      "text/plain": [
       "True"
      ]
     },
     "execution_count": 6,
     "metadata": {},
     "output_type": "execute_result"
    }
   ],
   "source": [
    "# Load .env environment variables into the notebook\n",
    "load_dotenv()\n"
   ]
  },
  {
   "cell_type": "code",
   "execution_count": 7,
   "metadata": {},
   "outputs": [],
   "source": [
    "# Use the Pandas os module and getenv function to retrieve the Metal API key from the environment variable file.\n",
    "# Store the Metal API key in a variable of the same name.\n",
    "Metal_api_key = os.getenv(\"Metal_API_KEY\")\n"
   ]
  },
  {
   "cell_type": "code",
   "execution_count": 8,
   "metadata": {},
   "outputs": [
    {
     "name": "stdout",
     "output_type": "stream",
     "text": [
      "4643d7cd51198d1e82e58244a2804958\n"
     ]
    }
   ],
   "source": [
    "print(Metal_api_key)"
   ]
  },
  {
   "cell_type": "code",
   "execution_count": 13,
   "metadata": {},
   "outputs": [
    {
     "data": {
      "text/plain": [
       "str"
      ]
     },
     "execution_count": 13,
     "metadata": {},
     "output_type": "execute_result"
    }
   ],
   "source": [
    "# Using the type funcion, confirm that the Metal API key is available for use in the notebook. \n",
    "type(Metal_api_key)"
   ]
  },
  {
   "cell_type": "code",
   "execution_count": 14,
   "metadata": {
    "tags": []
   },
   "outputs": [
    {
     "name": "stdout",
     "output_type": "stream",
     "text": [
      "{\n",
      "  \"2011\": {\n",
      "    \"error\": {\n",
      "      \"message\": \"User requested timeframe query with more than one currency requires a paid plan. Try using parameter currencies with one currency or upgrade plan.\",\n",
      "      \"statusCode\": 412\n",
      "    },\n",
      "    \"success\": false\n",
      "  },\n",
      "  \"2012\": {\n",
      "    \"error\": {\n",
      "      \"message\": \"User requested timeframe query with more than one currency requires a paid plan. Try using parameter currencies with one currency or upgrade plan.\",\n",
      "      \"statusCode\": 412\n",
      "    },\n",
      "    \"success\": false\n",
      "  },\n",
      "  \"2013\": {\n",
      "    \"error\": {\n",
      "      \"message\": \"User requested timeframe query with more than one currency requires a paid plan. Try using parameter currencies with one currency or upgrade plan.\",\n",
      "      \"statusCode\": 412\n",
      "    },\n",
      "    \"success\": false\n",
      "  },\n",
      "  \"2014\": {\n",
      "    \"error\": {\n",
      "      \"message\": \"User requested timeframe query with more than one currency requires a paid plan. Try using parameter currencies with one currency or upgrade plan.\",\n",
      "      \"statusCode\": 412\n",
      "    },\n",
      "    \"success\": false\n",
      "  },\n",
      "  \"2015\": {\n",
      "    \"error\": {\n",
      "      \"message\": \"User requested timeframe query with more than one currency requires a paid plan. Try using parameter currencies with one currency or upgrade plan.\",\n",
      "      \"statusCode\": 412\n",
      "    },\n",
      "    \"success\": false\n",
      "  },\n",
      "  \"2016\": {\n",
      "    \"error\": {\n",
      "      \"message\": \"User requested timeframe query with more than one currency requires a paid plan. Try using parameter currencies with one currency or upgrade plan.\",\n",
      "      \"statusCode\": 412\n",
      "    },\n",
      "    \"success\": false\n",
      "  },\n",
      "  \"2017\": {\n",
      "    \"error\": {\n",
      "      \"message\": \"User requested timeframe query with more than one currency requires a paid plan. Try using parameter currencies with one currency or upgrade plan.\",\n",
      "      \"statusCode\": 412\n",
      "    },\n",
      "    \"success\": false\n",
      "  },\n",
      "  \"2018\": {\n",
      "    \"error\": {\n",
      "      \"message\": \"User requested timeframe query with more than one currency requires a paid plan. Try using parameter currencies with one currency or upgrade plan.\",\n",
      "      \"statusCode\": 412\n",
      "    },\n",
      "    \"success\": false\n",
      "  },\n",
      "  \"2019\": {\n",
      "    \"error\": {\n",
      "      \"message\": \"User requested timeframe query with more than one currency requires a paid plan. Try using parameter currencies with one currency or upgrade plan.\",\n",
      "      \"statusCode\": 412\n",
      "    },\n",
      "    \"success\": false\n",
      "  },\n",
      "  \"2020\": {\n",
      "    \"error\": {\n",
      "      \"message\": \"User requested timeframe query with more than one currency requires a paid plan. Try using parameter currencies with one currency or upgrade plan.\",\n",
      "      \"statusCode\": 412\n",
      "    },\n",
      "    \"success\": false\n",
      "  }\n",
      "}\n"
     ]
    }
   ],
   "source": [
    "# Make the time series API call for the Metals information using requests.get. Iterate through years 2011-2020 for four different metals (Gold, Siver, Platinum, Palladium).\n",
    "# print the json dump\n",
    "metals={}\n",
    "for x in range(0, 10):\n",
    "    year = 2011+x;\n",
    "    requestload = f\"https://api.metalpriceapi.com/v1/timeframe?api_key={Metal_api_key}&start_date={year}-01-01&end_date={year}-12-30&base=USD&currencies=XAU,XPT,XAG,XPD\"\n",
    "    metaldata = requests.get(requestload).json()\n",
    "    metals[year] = metaldata;\n",
    "# Print the response data using the json.dumps function.    \n",
    "print(json.dumps(metals, indent=2, sort_keys=True))"
   ]
  },
  {
   "cell_type": "code",
   "execution_count": null,
   "metadata": {
    "tags": []
   },
   "outputs": [],
   "source": []
  },
  {
   "cell_type": "code",
   "execution_count": 11,
   "metadata": {},
   "outputs": [],
   "source": [
    "## Review the average price of the metals in a year. Iterate the json dump and append to new list for each metal. Calculate the mean by using statistics library and assign to metalsMeanData.   "
   ]
  },
  {
   "cell_type": "code",
   "execution_count": 12,
   "metadata": {},
   "outputs": [
    {
     "ename": "KeyError",
     "evalue": "'rates'",
     "output_type": "error",
     "traceback": [
      "\u001b[1;31m---------------------------------------------------------------------------\u001b[0m",
      "\u001b[1;31mKeyError\u001b[0m                                  Traceback (most recent call last)",
      "\u001b[1;32m~\\AppData\\Local\\Temp\\ipykernel_30576\\1100391649.py\u001b[0m in \u001b[0;36m<module>\u001b[1;34m\u001b[0m\n\u001b[0;32m      3\u001b[0m \u001b[1;32mfor\u001b[0m \u001b[0mx\u001b[0m \u001b[1;32min\u001b[0m \u001b[0mrange\u001b[0m\u001b[1;33m(\u001b[0m\u001b[1;36m2011\u001b[0m\u001b[1;33m,\u001b[0m\u001b[1;36m2021\u001b[0m\u001b[1;33m)\u001b[0m\u001b[1;33m:\u001b[0m\u001b[1;33m\u001b[0m\u001b[1;33m\u001b[0m\u001b[0m\n\u001b[0;32m      4\u001b[0m     \u001b[1;31m# Iterating through the year.\u001b[0m\u001b[1;33m\u001b[0m\u001b[1;33m\u001b[0m\u001b[1;33m\u001b[0m\u001b[0m\n\u001b[1;32m----> 5\u001b[1;33m     \u001b[0myearData\u001b[0m \u001b[1;33m=\u001b[0m \u001b[0mmetals\u001b[0m\u001b[1;33m[\u001b[0m\u001b[0mx\u001b[0m\u001b[1;33m]\u001b[0m\u001b[1;33m[\u001b[0m\u001b[1;34m\"rates\"\u001b[0m\u001b[1;33m]\u001b[0m\u001b[1;33m\u001b[0m\u001b[1;33m\u001b[0m\u001b[0m\n\u001b[0m\u001b[0;32m      6\u001b[0m     \u001b[0mxagList\u001b[0m \u001b[1;33m=\u001b[0m \u001b[1;33m[\u001b[0m\u001b[1;33m]\u001b[0m\u001b[1;33m;\u001b[0m\u001b[1;33m\u001b[0m\u001b[1;33m\u001b[0m\u001b[0m\n\u001b[0;32m      7\u001b[0m     \u001b[0mxptList\u001b[0m \u001b[1;33m=\u001b[0m \u001b[1;33m[\u001b[0m\u001b[1;33m]\u001b[0m\u001b[1;33m;\u001b[0m\u001b[1;33m\u001b[0m\u001b[1;33m\u001b[0m\u001b[0m\n",
      "\u001b[1;31mKeyError\u001b[0m: 'rates'"
     ]
    }
   ],
   "source": [
    "## Review the average price of the metals in a year. Iterate the json dump and append to new list with mean value for metal pricing in a year. Calculate the mean by using statistics library and assign to metals_mean_data.\n",
    "metals_mean_data = {\"XAG\" :{},\"XPT\":{}, \"XAU\" :{}, \"XPD\" :{}}\n",
    "for x in range(2011,2021):\n",
    "    # Iterating through the year.\n",
    "    yearData = metals[x][\"rates\"]\n",
    "    xagList = [];\n",
    "    xptList = [];\n",
    "    xauList = [];\n",
    "    xpdList = [];\n",
    "    \n",
    "    for y,z in yearData.items():\n",
    "        #iterating through the rates of each years values. Rates hold per day information for the entire year. The loop iterates through all the items and puts into the respective list\n",
    "        if \"XAG\" in z:\n",
    "            xagList.append(z[\"XAG\"])\n",
    "        if \"XPT\" in z:\n",
    "            xptList.append(z[\"XPT\"])\n",
    "        if \"XAU\" in z:\n",
    "            xauList.append(z[\"XAU\"])\n",
    "        if \"XPD\" in z:\n",
    "            xpdList.append(z[\"XPD\"])  \n",
    "            \n",
    "    #create a mean for each list and updates the metals_mean_data\n",
    "    metals_mean_data[\"XAG\"][x]=statistics.mean(xagList)\n",
    "    metals_mean_data[\"XPT\"][x]=statistics.mean(xptList)\n",
    "    metals_mean_data[\"XAU\"][x]=statistics.mean(xauList)\n",
    "    metals_mean_data[\"XPD\"][x]=statistics.mean(xpdList)\n",
    "    \n",
    "print(metals_mean_data)"
   ]
  },
  {
   "cell_type": "code",
   "execution_count": null,
   "metadata": {},
   "outputs": [],
   "source": [
    "type(metals_mean_data)"
   ]
  },
  {
   "cell_type": "code",
   "execution_count": null,
   "metadata": {},
   "outputs": [],
   "source": [
    "## Retrieve csv date for Oil\n",
    "Oil_data = pd.read_csv(\n",
    "Path:../)"
   ]
  },
  {
   "cell_type": "code",
   "execution_count": null,
   "metadata": {},
   "outputs": [],
   "source": []
  },
  {
   "cell_type": "code",
   "execution_count": null,
   "metadata": {},
   "outputs": [],
   "source": []
  },
  {
   "cell_type": "markdown",
   "metadata": {
    "tags": []
   },
   "source": [
    "## Step 5: Review the endpoint URLs that the starter notebook supplies. You’ll use these URL to access the endpoints for the Metals - Gold, Aluminum, Copper, Nickel, Iron Ore"
   ]
  },
  {
   "cell_type": "code",
   "execution_count": null,
   "metadata": {},
   "outputs": [],
   "source": []
  },
  {
   "cell_type": "code",
   "execution_count": null,
   "metadata": {},
   "outputs": [],
   "source": []
  },
  {
   "cell_type": "code",
   "execution_count": null,
   "metadata": {},
   "outputs": [],
   "source": []
  }
 ],
 "metadata": {
  "kernelspec": {
   "display_name": "Python (dev)",
   "language": "python",
   "name": "dev"
  },
  "language_info": {
   "codemirror_mode": {
    "name": "ipython",
    "version": 3
   },
   "file_extension": ".py",
   "mimetype": "text/x-python",
   "name": "python",
   "nbconvert_exporter": "python",
   "pygments_lexer": "ipython3",
   "version": "3.7.11"
  }
 },
 "nbformat": 4,
 "nbformat_minor": 4
}
